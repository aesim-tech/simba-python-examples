{
 "cells": [
  {
   "attachments": {},
   "cell_type": "markdown",
   "metadata": {},
   "source": [
    "# DC-DC Flyback converter \n",
    "\n",
    "The goal is to compare the SIMBA simulation results against theory calculation for this topology.\n",
    "\n",
    "Let's compare the average output voltage.\n",
    "\n",
    "# SIMBA circuit\n",
    "![flyback](flyback.png)\n",
    "\n",
    "\n",
    "\n",
    "Simulation settings : \n",
    "* predictive time step (variable) \n",
    "* minimum time step: 1E-08\n",
    "* simulation time: we use the \"stop at steady state\" function\n",
    "\n",
    "\n",
    "# Theory calculation\n",
    "\n",
    "* Output voltage\n",
    "\n",
    "$ V_{out} =  V_{in} \\times m \\times \\frac {D}{1-D} $\n",
    "\n",
    "with:\n",
    "\n",
    "V_in = 6\n",
    "\n",
    "D = duty cycle = 0.25\n",
    "\n",
    "N2= 2\n",
    "\n",
    "N1= 1\n",
    "\n",
    "m= (N2/N1)\n",
    "\n",
    "\n",
    "### Run Simulation "
   ]
  },
  {
   "cell_type": "code",
   "execution_count": 1,
   "metadata": {},
   "outputs": [],
   "source": [
    "# Load modules\n",
    "from aesim.simba import JsonProjectRepository\n",
    "from math import *\n",
    "import matplotlib.pyplot as plt\n",
    "import os\n",
    "import numpy as np"
   ]
  },
  {
   "cell_type": "code",
   "execution_count": 2,
   "metadata": {},
   "outputs": [
    {
     "name": "stdout",
     "output_type": "stream",
     "text": [
      "Theory Output voltage Average =  4.0\n"
     ]
    }
   ],
   "source": [
    "#Theory calculation for output average voltage \n",
    "\n",
    "Vinput = 6\n",
    "Duty= 0.25\n",
    "N2= 2\n",
    "N1= 1\n",
    "m= (N2/N1)\n",
    "Vo_th = Vinput * m * (Duty/(1-Duty))\n",
    "print (\"Theory Output voltage Average = \", Vo_th)"
   ]
  },
  {
   "cell_type": "code",
   "execution_count": 3,
   "metadata": {},
   "outputs": [],
   "source": [
    "# Load functions\n",
    "\n",
    "# get steady state signals\n",
    "def steadystate_signal(horizon_time, time, *signals):\n",
    "    \"\"\"steadystate_signal() returns time ndarray and a list of signals on the horizon_time\"\"\"\n",
    "\n",
    "    steadystate_maskarray = np.ma.where(time > time[-1] - horizon_time)\n",
    "    steadystate_time = time[steadystate_maskarray]\n",
    "    steadystate_signal_list = [signal[steadystate_maskarray] \n",
    "for signal in signals]\n",
    "    return steadystate_time, *steadystate_signal_list\n",
    "\n",
    "# calculate average value\n",
    "def average_value(time, waveform):\n",
    "    \"\"\"average_value() returns the average value of a time waveform equal time steps are not required\"\"\"\n",
    "\n",
    "    cum_sum = 0\n",
    "    range_idx = range(0, len(time)-1, 1)\n",
    "\n",
    "    for idx in range_idx:\n",
    "        cum_sum += (time[idx + 1] - time[idx]) * (waveform[idx+1] + waveform[idx]) /2\n",
    "    return (1 / (time[-1] - time[0]) * cum_sum)\n",
    "\n",
    "# calculate rms value\n",
    "def rms_value(time, waveform):\n",
    "    \"\"\"rms_value() returns the rms value of a time waveform equal time steps are not required\"\"\"\n",
    "\n",
    "    cum_sum = 0\n",
    "    range_idx = range(0, len(time)-1, 1)\n",
    "\n",
    "    for idx in range_idx:\n",
    "        cum_sum += (time[idx + 1] - time[idx]) * (waveform[idx+1]**2 + waveform[idx]**2) /2\n",
    "    return (np.sqrt(1 / (time[-1] - time[0]) * cum_sum))\n",
    "\n",
    "# plot histogram\n",
    "def plot_bar(Tab1 = [], \n",
    "        Tab2 = [], \n",
    "        largeur_barre = 0.3,\n",
    "        Etiquette = [],\n",
    "        FigAxe = \"ax1\",\n",
    "        show = False,\n",
    "        plot = plt, Tab1_abscisse = [], \n",
    "        dxticks = 0, mxticks = 2, \n",
    "        xlim = [], ylim = [],\n",
    "        color_tab1 = 'orange',\n",
    "        Legend = ['SIMBA', 'PSIM'],\n",
    "        ylabel='Average or rms values'):\n",
    "        \"\"\"\n",
    "        Tab1: donnée SIMBA\n",
    "        Tab2: Donnée PSIM\n",
    "        largeur_barre = 0.3 # Largeur de chaque barre :\n",
    "        \"\"\"\n",
    "\n",
    "        if Tab1_abscisse == []:\n",
    "                Tab1_abscisse = range(len(Tab1)) # Position des barres de la categorie 1\n",
    "        \n",
    "        if Tab2 != []:\n",
    "                Tab2_abscisse = [i + largeur_barre for i in Tab1_abscisse] # Position des barres de la cat 2\n",
    "\n",
    "        plot.bar(Tab1_abscisse, Tab1, width = largeur_barre, color = color_tab1, # Barres cat 1\n",
    "                edgecolor = 'black', linewidth = 2)\n",
    "        \n",
    "        if Tab2 != []:\n",
    "                plot.bar(Tab2_abscisse, Tab2, width = largeur_barre, color = 'yellow', # Barres cat 2\n",
    "                        edgecolor = ['black' for i in Tab1], linewidth = 2)\n",
    "\n",
    "        plot.xticks([dxticks+r + largeur_barre / mxticks for r in range(len(Tab1))], # Etiquettes\n",
    "                Etiquette)\n",
    "\n",
    "        FigAxe.set_ylabel(ylabel)\n",
    "\n",
    "        if ylim !=[]:\n",
    "                plt.ylim(ylim)\n",
    "        if xlim !=[]:\n",
    "                plt.xlim(xlim)\n",
    "\n",
    "        if Tab2 != []:\n",
    "            plot.legend(Legend)\n",
    "\n",
    "        if show == True :\n",
    "                plot.show()\n"
   ]
  },
  {
   "cell_type": "code",
   "execution_count": 4,
   "metadata": {},
   "outputs": [
    {
     "name": "stdout",
     "output_type": "stream",
     "text": [
      "========== 0 Error(s), 0 Warning(s) ==========\n",
      "Job duration: 0,0221196 seconds.\n",
      "\n",
      "SIMBA Output Voltage Average =  3.994378760445819\n",
      " Diff_relative_mean for output voltage at steady state=  0.14053\n",
      "Total simulation Time in SIMBA 0.0221196\n"
     ]
    },
    {
     "data": {
      "image/png": "[encoded data removed]",
      "text/plain": [
       "<Figure size 1152x648 with 1 Axes>"
      ]
     },
     "metadata": {
      "needs_background": "light"
     },
     "output_type": "display_data"
    }
   ],
   "source": [
    "# Load SIMBA project\n",
    "file_path = os.path.join(os.getcwd(), \"flyback_converter.jsimba\")\n",
    "project = JsonProjectRepository(file_path)\n",
    "Flyback = project.GetDesignByName('Flyback')\n",
    "\n",
    "# Get the job object and solve the system\n",
    "job = Flyback.TransientAnalysis.NewJob()\n",
    "status = job.Run()\n",
    "print(job.Summary())\n",
    "\n",
    "# Get results\n",
    "t = job.TimePoints\n",
    "Vout = job.GetSignalByName('R2 - Instantaneous Voltage').DataPoints\n",
    "\n",
    "\n",
    "# Plot graph for output voltage during all simulation time\n",
    "fig = plt.figure(figsize = (16, 9))\n",
    "\n",
    "ax1 = fig.add_subplot(111)\n",
    "plot1 = ax1.plot(t, Vout, \"r\")\n",
    "ax1.set_xlabel('time')\n",
    "ax1.set_ylabel('Vout')\n",
    "ax1.set_title(\"Vout SIMBA\")\n",
    "\n",
    "\n",
    "# steady state during 2 periods for the measurements comparison\n",
    "fsw=500000\n",
    "horizon_time = 2 / fsw  \n",
    "t, Vout = steadystate_signal(\n",
    "   horizon_time,\n",
    "   np.array(job.TimePoints),\n",
    "   np.array(job.GetSignalByName('R2 - Instantaneous Voltage').DataPoints))\n",
    "\n",
    "# Perform average calculation during 2 periods\n",
    "Vout_average = average_value(t, Vout)\n",
    "print(\"SIMBA Output Voltage Average = \", str(Vout_average))\n",
    "\n",
    "# calculation of relative difference between SIMBA & theoretical calculation at steady state\n",
    "Diff_relative_mean = np.round(abs(Vo_th - Vout_average)*100/Vo_th, 5)\n",
    "print (\" Diff_relative_mean for output voltage at steady state= \", Diff_relative_mean)\n",
    "\n",
    "\n",
    "#Retrieve total simulation time for SIMBA simulation\n",
    "job.RunTime\n",
    "print (\"Total simulation Time in SIMBA\", str(job.RunTime))\n"
   ]
  },
  {
   "cell_type": "code",
   "execution_count": 5,
   "metadata": {},
   "outputs": [
    {
     "data": {
      "image/png": "[encoded data removed]",
      "text/plain": [
       "<Figure size 1152x648 with 2 Axes>"
      ]
     },
     "metadata": {
      "needs_background": "light"
     },
     "output_type": "display_data"
    }
   ],
   "source": [
    "# Plot figure with Histogram at steady state\n",
    "fig1 = plt.figure(figsize = (16, 9))\n",
    "ax2 = fig1.add_subplot(211)\n",
    "plot_bar(Tab1 = [Vout_average],\n",
    "        Tab2 = [Vo_th], \n",
    "        largeur_barre = 0.1,\n",
    "        Etiquette = ['<Vout>'],\n",
    "        Legend = ['SIMBA', 'Theory'],\n",
    "        xlim = [0, 1], ylim = [0, 5],\n",
    "        Tab1_abscisse = [0.5], \n",
    "        dxticks= 0.5,\n",
    "        FigAxe = ax2)\n",
    "\n",
    "\n",
    "\n",
    "        \n",
    "\n",
    "ax3 = fig1.add_subplot(212)\n",
    "plot_bar(Tab1 = [Diff_relative_mean], \n",
    "        largeur_barre = 0.1,\n",
    "        Etiquette = ['<Vout>'],\n",
    "        FigAxe = ax3, \n",
    "        mxticks = 32,\n",
    "        ylabel = 'Relative difference to Theory (%)',\n",
    "        Tab1_abscisse = [0.5],\n",
    "        xlim = [0, 1],\n",
    "        dxticks= 0.5,\n",
    "        color_tab1 = 'blue')\n",
    "\n",
    "\n",
    "fig.tight_layout()\n",
    "fig1.tight_layout()\n",
    "\n",
    "plt.show()\n"
   ]
  }
 ],
 "metadata": {
  "kernelspec": {
   "display_name": "Python 3",
   "language": "python",
   "name": "python3"
  },
  "language_info": {
   "codemirror_mode": {
    "name": "ipython",
    "version": 3
   },
   "file_extension": ".py",
   "mimetype": "text/x-python",
   "name": "python",
   "nbconvert_exporter": "python",
   "pygments_lexer": "ipython3",
   "version": "3.10.5"
  },
  "vscode": {
   "interpreter": {
    "hash": "c16a552a28c1f3e011cf5bf08dd8767fe3bdcc0a585d197bf4032d58ac6f1740"
   }
  }
 },
 "nbformat": 4,
 "nbformat_minor": 4
}
