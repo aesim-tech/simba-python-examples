{
 "cells": [
  {
   "attachments": {},
   "cell_type": "markdown",
   "metadata": {},
   "source": [
    "# Dual Active Bridge Power converter \n",
    "\n",
    "This topology is comprised of a 1-phase inverter, a transformer for isolation purpose and a full bridge rectifier.\n",
    "\n",
    "# SIMBA circuit\n",
    "![DAB](DAB_SIMBA.png)\n",
    "\n",
    "The control stage allows to extract the duty cycle by a C block and generate the phase shift + PWM signals.\n",
    "\n",
    "Simulation settings : \n",
    "* predictive time step (variable) \n",
    "* minimum time step: 1E-09\n",
    "* simulation time: 0.2s\n",
    "\n",
    "\n",
    "### Run Simulation "
   ]
  },
  {
   "cell_type": "code",
   "execution_count": 1,
   "metadata": {},
   "outputs": [],
   "source": [
    "# Load modules\n",
    "from aesim.simba import JsonProjectRepository\n",
    "import matplotlib.pyplot as plt\n",
    "import os \n",
    "import csv\n",
    "import numpy as np"
   ]
  },
  {
   "cell_type": "code",
   "execution_count": 2,
   "metadata": {},
   "outputs": [],
   "source": [
    "# Load functions\n",
    "# calculate average value\n",
    "def average_value(time, waveform):\n",
    "    \"\"\"average_value() returns the average value of a time waveform equal time steps are not required\"\"\"\n",
    "\n",
    "    cum_sum = 0\n",
    "    range_idx = range(0, len(time)-1, 1)\n",
    "\n",
    "    for idx in range_idx:\n",
    "        cum_sum += (time[idx + 1] - time[idx]) * (waveform[idx+1] + waveform[idx]) /2\n",
    "    return (1 / (time[-1] - time[0]) * cum_sum)"
   ]
  },
  {
   "cell_type": "code",
   "execution_count": 4,
   "metadata": {},
   "outputs": [
    {
     "name": "stdout",
     "output_type": "stream",
     "text": [
      "SIMBA Output Voltage average = 373.88224025843056\n"
     ]
    }
   ],
   "source": [
    "# Retrieve SIMBA results by loading csv files and apply average calculation for DC signals\n",
    "\n",
    "#Voltage SIMBA\n",
    "Time = []\n",
    "Vsimba = []\n",
    "\n",
    "# Get Current Working Directory\n",
    "file_path = os.path.join(os.getcwd(), \"Vout_DAB_2.csv\")\n",
    "SIMBA_csv_file = open(file_path)\n",
    "for i, line in enumerate(csv.reader(SIMBA_csv_file)):\n",
    "   if i > 0:\n",
    "    Time.append(float(line[0]))\n",
    "    Vsimba.append(float(line[1]))\n",
    "Time = np.array(Time)\n",
    "Vsimba = np.array(Vsimba)\n",
    "Vsimba_mean = average_value(Time, Vsimba)\n",
    "print(\"SIMBA Output Voltage average = \" + str(Vsimba_mean))\n",
    "\n"
   ]
  },
  {
   "cell_type": "code",
   "execution_count": 5,
   "metadata": {},
   "outputs": [
    {
     "data": {
      "image/png": "[encoded data removed]",
      "text/plain": [
       "<Figure size 1152x504 with 1 Axes>"
      ]
     },
     "metadata": {
      "needs_background": "light"
     },
     "output_type": "display_data"
    }
   ],
   "source": [
    "# Plot figure with graphs\n",
    "fig = plt.figure(figsize = (16, 7))\n",
    "\n",
    "ax = fig.add_subplot(121)\n",
    "ax.plot(Time, Vsimba, \"b\")\n",
    "ax.set_xlabel('time')\n",
    "ax.set_ylabel('Output voltage')\n",
    "ax.set_title(\"output voltage SIMBA\")\n",
    "ax.legend([\"SIMBA\"])\n",
    "ax.set_ylim((0,500))\n",
    "\n",
    "fig.tight_layout()\n",
    "\n",
    "plt.show()"
   ]
  }
 ],
 "metadata": {
  "kernelspec": {
   "display_name": "Python 3",
   "language": "python",
   "name": "python3"
  },
  "language_info": {
   "codemirror_mode": {
    "name": "ipython",
    "version": 3
   },
   "file_extension": ".py",
   "mimetype": "text/x-python",
   "name": "python",
   "nbconvert_exporter": "python",
   "pygments_lexer": "ipython3",
   "version": "3.10.5"
  },
  "vscode": {
   "interpreter": {
    "hash": "c16a552a28c1f3e011cf5bf08dd8767fe3bdcc0a585d197bf4032d58ac6f1740"
   }
  }
 },
 "nbformat": 4,
 "nbformat_minor": 4
}
